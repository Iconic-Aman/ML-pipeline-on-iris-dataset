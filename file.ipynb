{
 "cells": [
  {
   "cell_type": "code",
   "execution_count": 80,
   "id": "ad767ca6",
   "metadata": {},
   "outputs": [],
   "source": [
    "import numpy as np\n",
    "import pandas as pd\n",
    "from sklearn.ensemble import RandomForestClassifier, RandomForestRegressor, GradientBoostingClassifier, GradientBoostingRegressor\n",
    "from sklearn.linear_model import (\n",
    "    LinearRegression, LogisticRegression,\n",
    "    Ridge, Lasso, ElasticNet, SGDClassifier, SGDRegressor\n",
    ")\n",
    "from sklearn.tree import DecisionTreeClassifier, DecisionTreeRegressor\n",
    "from sklearn.neighbors import KNeighborsClassifier, KNeighborsRegressor\n",
    "from sklearn.svm import SVC, SVR\n",
    "from sklearn.neural_network import MLPClassifier, MLPRegressor\n",
    "from sklearn.model_selection import GridSearchCV\n"
   ]
  },
  {
   "cell_type": "code",
   "execution_count": 81,
   "id": "864979aa",
   "metadata": {},
   "outputs": [
    {
     "name": "stdout",
     "output_type": "stream",
     "text": [
      "session_name\n",
      "session_description\n",
      "design_state_data\n"
     ]
    }
   ],
   "source": [
    "import json\n",
    "with open('jsonFile.json', 'r') as json_file:\n",
    "    loadData = json.load(json_file)\n",
    "\n",
    "for key, val in loadData.items():\n",
    "    print(key)"
   ]
  },
  {
   "cell_type": "code",
   "execution_count": 82,
   "id": "857f50ac",
   "metadata": {},
   "outputs": [],
   "source": [
    "data = loadData['design_state_data']"
   ]
  },
  {
   "cell_type": "code",
   "execution_count": 83,
   "id": "4fb6e019",
   "metadata": {},
   "outputs": [
    {
     "name": "stdout",
     "output_type": "stream",
     "text": [
      "RandomForestClassifier\n",
      "RandomForestRegressor\n",
      "GBTClassifier\n",
      "GBTRegressor\n",
      "LinearRegression\n",
      "LogisticRegression\n",
      "RidgeRegression\n",
      "LassoRegression\n",
      "ElasticNetRegression\n",
      "xg_boost\n",
      "DecisionTreeRegressor\n",
      "DecisionTreeClassifier\n",
      "SVM\n",
      "SGD\n",
      "KNN\n",
      "extra_random_trees\n",
      "neural_network\n",
      "\n",
      "\n",
      "target = petal_width\n",
      "task_type = regression\n",
      "dataset = iris_modified.csv\n"
     ]
    }
   ],
   "source": [
    "# extract imp info\n",
    "algo = data['algorithms']\n",
    "target = data['target']['target']\n",
    "task_type = data['target']['type']\n",
    "dataset = data['session_info']['dataset']\n",
    "columns = list(data['feature_handling'].keys())\n",
    "for key in algo.keys():\n",
    "    print(key)\n",
    "print(f'\\n\\ntarget = {target}')\n",
    "print(f'task_type = {task_type}')\n",
    "print(f'dataset = {dataset}')\n"
   ]
  },
  {
   "cell_type": "code",
   "execution_count": 84,
   "id": "170c18bd",
   "metadata": {},
   "outputs": [],
   "source": [
    "#feature selection\n",
    "selected_features = []\n",
    "for feature, val in data['feature_handling'].items():\n",
    "    if val['is_selected']:\n",
    "        strategy = val['feature_details'].get('impute_with')\n",
    "        impute_val = val['feature_details'].get('impute_value')\n",
    "\n",
    "        selected_features.append(feature)\n"
   ]
  },
  {
   "cell_type": "markdown",
   "id": "100facca",
   "metadata": {},
   "source": [
    "### feature reduction"
   ]
  },
  {
   "cell_type": "code",
   "execution_count": 85,
   "id": "5615b877",
   "metadata": {},
   "outputs": [
    {
     "name": "stdout",
     "output_type": "stream",
     "text": [
      "feature_reduction_method : Tree-based\n",
      "number of trees : 5\n",
      "depth of tress : 6\n"
     ]
    }
   ],
   "source": [
    "#feature reduction\n",
    "feature_reduction_method  = data['feature_reduction']['feature_reduction_method']\n",
    "num_of_trees = data['feature_reduction']['num_of_trees']\n",
    "depth_of_trees = data['feature_reduction']['depth_of_trees']\n",
    "\n",
    "print(f'feature_reduction_method : {feature_reduction_method}')\n",
    "print(f'number of trees : {num_of_trees}')\n",
    "print(f'depth of tress : {depth_of_trees}')\n"
   ]
  },
  {
   "cell_type": "markdown",
   "id": "d2dd1655",
   "metadata": {},
   "source": [
    "### write the parameter for each model"
   ]
  },
  {
   "cell_type": "markdown",
   "id": "9cdf5c3a",
   "metadata": {},
   "source": [
    "### Register all the model"
   ]
  },
  {
   "cell_type": "code",
   "execution_count": 86,
   "id": "fceb86ff",
   "metadata": {},
   "outputs": [],
   "source": [
    "#model registry\n",
    "model_registry = {\n",
    "    'RandomForestClassifier' : RandomForestClassifier,\n",
    "    'RandomForestRegressor': RandomForestRegressor,\n",
    "    # 'GBTClassifier' : GBTClassifier,\n",
    "    # 'GBTRegressor': GBTRegressor,\n",
    "    'LinearRegression': LinearRegression,\n",
    "    'LogisticRegression': LogisticRegression,\n",
    "    'RidgeRegression': Ridge,\n",
    "    'LassoRegression': Lasso,\n",
    "    'ElasticNetRegression': ElasticNet,\n",
    "    # 'xg_boost': XGBClassifier,\n",
    "    'DecisionTreeRegressor': DecisionTreeRegressor,\n",
    "    'DecisionTreeClassifier': DecisionTreeClassifier,\n",
    "    'SVM': SVC,\n",
    "    'SGD': SGDClassifier,\n",
    "    'KNN': KNeighborsClassifier,\n",
    "    \"MLPClassifier\": MLPClassifier,\n",
    "    \"MLPRegressor\": MLPRegressor\n",
    "}\n"
   ]
  },
  {
   "cell_type": "code",
   "execution_count": 87,
   "id": "216fc684",
   "metadata": {},
   "outputs": [],
   "source": [
    "def get_param_grid(model_name, config):\n",
    "    if model_name == 'RandomForestClassifier' or model_name == 'RandomForestRegressor':\n",
    "        return {\n",
    "                'n_estimators': [config['min_trees'], config['max_trees']],\n",
    "                'max_depth': [config['min_depth'], config['max_depth']],\n",
    "                'min_samples_leaf': [config['min_samples_per_leaf_min_value'], config['min_samples_per_leaf_max_value']]\n",
    "        }\n",
    "    \n",
    "    elif model_name == 'RidgeRegression':\n",
    "        return{\n",
    "                'alpha': [config['min_regparam'], config['max_regparam']],\n",
    "                'max_iter': [config['min_iter'], config['max_iter']]\n",
    "            \n",
    "        }\n",
    "    elif model_name == 'LassoRegression':\n",
    "        return{\n",
    "                'alpha': [config['min_regparam'], config['max_regparam']],\n",
    "                'max_iter': [config['min_iter'], config['max_iter']]\n",
    "            \n",
    "        }\n",
    "    \n",
    "    elif model_name == \"ElasticNetRegression\":\n",
    "        return{\n",
    "                'alpha': [config['min_regparam'], config['max_regparam']],\n",
    "                'max_iter': [config['min_iter'], config['max_iter']],\n",
    "                'l1_ratio': [config['min_elasticnet'], config['max_elasticnet']]\n",
    "            \n",
    "        }\n",
    "    elif model_name == \"DecisionTreeRegressor\" or model_name == 'DecisionTreeClassifier':\n",
    "        return{\n",
    "                'max_depth': [config['min_depth'], config['max_depth']],\n",
    "                'min_samples_leaf': [config['min_samples_per_leaf']]\n",
    "            \n",
    "        }\n",
    "    elif model_name == \"SVM\":\n",
    "        return{\n",
    "                'max_iter': [config['max_iterations']],\n",
    "                'C': config['c_value'],\n",
    "                'kernel': [\n",
    "                    k for k, use in {\n",
    "                        'linear': config.get('linear_kernel', False),\n",
    "                        'rbf': config.get('rep_kernel', False),   # assuming rep = rbf\n",
    "                        'poly': config.get('polynomial_kernel', False),\n",
    "                        'sigmoid': config.get('sigmoid_kernel', False)\n",
    "                    }.items() if use\n",
    "                ]\n",
    "            \n",
    "        }\n",
    "    elif model_name == \"KNN\":\n",
    "        return{\n",
    "                'n_neighbors': config['k_value'],\n",
    "                'weights': ['distance'] if config.get('distance_weighting') else ['uniform'], \n",
    "                'p': config.get('p_value', 2)\n",
    "            \n",
    "        }\n",
    "    elif model_name == \"extra_random_trees\":\n",
    "        return{\n",
    "                \"n_estimators\": config[\"num_of_trees\"],\n",
    "                \"max_depth\": config[\"max_depth\"],\n",
    "                \"min_samples_leaf\": config[\"min_samples_per_leaf\"]\n",
    "            \n",
    "        }\n",
    "    elif model_name == \"ElasticNetRegression\":\n",
    "        return{\n",
    "                'hidden_layer_sizes' : [(67,), (89,)], #must be tuple\n",
    "                'activation': ['relu', 'tanh'] if not config['activation'] else config['activation'],\n",
    "                'alpha': [0.002] if config['alpha_value'] == 0 else [config[\"alpha_value\"]],\n",
    "                'max_iter': [200] if config['max_iterations'] == 0 else [config['max_iterations']],\n",
    "                \"early_stopping\": [config.get(\"early_stopping\", True)],\n",
    "                'solver': [config.get('solver').lower()],\n",
    "                'shuffle': [config.get('shuffle_data', True)]\n",
    "            \n",
    "        }\n",
    "    else:\n",
    "        return None"
   ]
  },
  {
   "cell_type": "markdown",
   "id": "a1fda837",
   "metadata": {},
   "source": [
    "### Hyperparameter Tuning and train model"
   ]
  },
  {
   "cell_type": "code",
   "execution_count": 88,
   "id": "0394277a",
   "metadata": {},
   "outputs": [],
   "source": [
    "def train_selected_model(X_train, X_test, y_train, y_test, algo, model_registry, get_param_grid, hyperparameters):\n",
    "    for model_name, config in algo.items():\n",
    "        if config.get('is_selected'):\n",
    "            print(f'Here, we are using {model_name} model.')\n",
    "            \n",
    "            #get the model class from model registry\n",
    "            model_class = model_registry.get(model_name)\n",
    "            if model_class is None:\n",
    "                print(f'{model_name} is not registered in model_registry')\n",
    "                continue\n",
    "            \n",
    "            model = model_class()\n",
    "            param_grid = get_param_grid(model_name, config)\n",
    "            if param_grid is None:\n",
    "                print(f'no param grid found for this {model_name}')\n",
    "                continue\n",
    "            \n",
    "            #Apply grid search cv and train the model\n",
    "            grid_search = GridSearchCV(\n",
    "                estimator= model,\n",
    "                param_grid= param_grid,\n",
    "                cv = data['hyperparameters']['num_of_folds'],\n",
    "                n_jobs= data['hyperparameters']['parallelism'],\n",
    "                verbose= 3,\n",
    "            )\n",
    "            \n",
    "            grid_search.fit(X_train, y_train)\n",
    "            \n",
    "            print(f\" Best Params for {model_name}: {grid_search.best_params_}\")\n",
    "            print(f\" Test Score: {grid_search.score(X_test, y_test)}\\n\")"
   ]
  }
 ],
 "metadata": {
  "kernelspec": {
   "display_name": "base",
   "language": "python",
   "name": "python3"
  },
  "language_info": {
   "codemirror_mode": {
    "name": "ipython",
    "version": 3
   },
   "file_extension": ".py",
   "mimetype": "text/x-python",
   "name": "python",
   "nbconvert_exporter": "python",
   "pygments_lexer": "ipython3",
   "version": "3.12.2"
  }
 },
 "nbformat": 4,
 "nbformat_minor": 5
}
