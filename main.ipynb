{
 "cells": [
  {
   "cell_type": "code",
   "execution_count": 269,
   "id": "f9675bb6",
   "metadata": {},
   "outputs": [],
   "source": [
    "\n",
    "import pandas as pd \n",
    "import numpy as np\n",
    "from sklearn.model_selection import train_test_split\n",
    "import json\n",
    "from sklearn.preprocessing import LabelEncoder, StandardScaler, MinMaxScaler\n",
    "from sklearn.ensemble import RandomForestClassifier, RandomForestRegressor, GradientBoostingClassifier, GradientBoostingRegressor\n",
    "from sklearn.linear_model import (\n",
    "    LinearRegression, LogisticRegression,\n",
    "    Ridge, Lasso, ElasticNet, SGDClassifier, SGDRegressor\n",
    ")\n",
    "from sklearn.tree import DecisionTreeClassifier, DecisionTreeRegressor\n",
    "from sklearn.neighbors import KNeighborsClassifier, KNeighborsRegressor\n",
    "from sklearn.svm import SVC, SVR\n",
    "from sklearn.neural_network import MLPClassifier, MLPRegressor\n",
    "from sklearn.model_selection import GridSearchCV\n",
    "import train_utils\n",
    "from train_utils import *"
   ]
  },
  {
   "cell_type": "code",
   "execution_count": 270,
   "id": "fed136c6",
   "metadata": {},
   "outputs": [
    {
     "name": "stdout",
     "output_type": "stream",
     "text": [
      "iris_modified.csv\n",
      "target : petal_width\n",
      "task type : regression\n"
     ]
    }
   ],
   "source": [
    "data_path = \"\"\n",
    "data = \"\"\n",
    "with open('jsonFile.json', 'r') as json_file:\n",
    "    loadData = json.load(json_file)\n",
    "    data = loadData['design_state_data']\n",
    "    data_path = data['session_info'].get('dataset')\n",
    "    target = data['target']['target']\n",
    "    task_type = data['target']['type']\n",
    "    \n",
    "print(data_path)\n",
    "print(f'target : {target}')\n",
    "print(f'task type : {task_type}')"
   ]
  },
  {
   "cell_type": "code",
   "execution_count": 271,
   "id": "275c680b",
   "metadata": {},
   "outputs": [
    {
     "name": "stdout",
     "output_type": "stream",
     "text": [
      "shape = (150, 5)\n"
     ]
    },
    {
     "data": {
      "text/html": [
       "<div>\n",
       "<style scoped>\n",
       "    .dataframe tbody tr th:only-of-type {\n",
       "        vertical-align: middle;\n",
       "    }\n",
       "\n",
       "    .dataframe tbody tr th {\n",
       "        vertical-align: top;\n",
       "    }\n",
       "\n",
       "    .dataframe thead th {\n",
       "        text-align: right;\n",
       "    }\n",
       "</style>\n",
       "<table border=\"1\" class=\"dataframe\">\n",
       "  <thead>\n",
       "    <tr style=\"text-align: right;\">\n",
       "      <th></th>\n",
       "      <th>sepal_length</th>\n",
       "      <th>sepal_width</th>\n",
       "      <th>petal_length</th>\n",
       "      <th>petal_width</th>\n",
       "      <th>species</th>\n",
       "    </tr>\n",
       "  </thead>\n",
       "  <tbody>\n",
       "    <tr>\n",
       "      <th>0</th>\n",
       "      <td>5.1</td>\n",
       "      <td>3.5</td>\n",
       "      <td>1.4</td>\n",
       "      <td>0.2</td>\n",
       "      <td>Iris-setosa</td>\n",
       "    </tr>\n",
       "    <tr>\n",
       "      <th>1</th>\n",
       "      <td>4.9</td>\n",
       "      <td>3.0</td>\n",
       "      <td>1.4</td>\n",
       "      <td>0.2</td>\n",
       "      <td>Iris-setosa</td>\n",
       "    </tr>\n",
       "    <tr>\n",
       "      <th>2</th>\n",
       "      <td>4.7</td>\n",
       "      <td>3.2</td>\n",
       "      <td>1.3</td>\n",
       "      <td>0.2</td>\n",
       "      <td>Iris-setosa</td>\n",
       "    </tr>\n",
       "    <tr>\n",
       "      <th>3</th>\n",
       "      <td>4.6</td>\n",
       "      <td>3.1</td>\n",
       "      <td>1.5</td>\n",
       "      <td>0.2</td>\n",
       "      <td>Iris-setosa</td>\n",
       "    </tr>\n",
       "    <tr>\n",
       "      <th>4</th>\n",
       "      <td>5.0</td>\n",
       "      <td>3.6</td>\n",
       "      <td>1.4</td>\n",
       "      <td>0.2</td>\n",
       "      <td>Iris-setosa</td>\n",
       "    </tr>\n",
       "  </tbody>\n",
       "</table>\n",
       "</div>"
      ],
      "text/plain": [
       "   sepal_length  sepal_width  petal_length  petal_width      species\n",
       "0           5.1          3.5           1.4          0.2  Iris-setosa\n",
       "1           4.9          3.0           1.4          0.2  Iris-setosa\n",
       "2           4.7          3.2           1.3          0.2  Iris-setosa\n",
       "3           4.6          3.1           1.5          0.2  Iris-setosa\n",
       "4           5.0          3.6           1.4          0.2  Iris-setosa"
      ]
     },
     "execution_count": 271,
     "metadata": {},
     "output_type": "execute_result"
    }
   ],
   "source": [
    "#read the data\n",
    "df = pd.read_csv(f'data/{data_path}')\n",
    "print(f'shape = {df.shape}')\n",
    "df.head()"
   ]
  },
  {
   "cell_type": "code",
   "execution_count": 272,
   "id": "0ba60712",
   "metadata": {},
   "outputs": [
    {
     "name": "stdout",
     "output_type": "stream",
     "text": [
      "session_info\n",
      "target\n",
      "train\n",
      "metrics\n",
      "feature_handling\n",
      "feature_generation\n",
      "feature_reduction\n",
      "hyperparameters\n",
      "weighting_stratergy\n",
      "probability_calibration\n",
      "algorithms\n"
     ]
    }
   ],
   "source": [
    "for key in data.keys():\n",
    "    print(key)"
   ]
  },
  {
   "cell_type": "markdown",
   "id": "27fb7b01",
   "metadata": {},
   "source": [
    "### FEATURE HANDLING\n",
    "- handling missing values"
   ]
  },
  {
   "cell_type": "code",
   "execution_count": 273,
   "id": "54a6d444",
   "metadata": {},
   "outputs": [],
   "source": [
    "def feature_handling(df, config):\n",
    "    df_copy = df.copy() #make a copy of df\n",
    "    processed = {}\n",
    "\n",
    "    for col, val in config.items():\n",
    "        if not val[\"is_selected\"]:\n",
    "            continue\n",
    "        details = val[\"feature_details\"]\n",
    "        col_type = val[\"feature_variable_type\"]\n",
    "\n",
    "        # Imputation for numerical feature\n",
    "        if col_type == \"numerical\":\n",
    "            computation_type = details.get(\"impute_with\")\n",
    "            if computation_type == \"Average of values\":\n",
    "                df_copy[col] = df_copy[col].fillna(df_copy[col].mean())\n",
    "            elif computation_type == \"custom\":\n",
    "                df_copy[col] = df_copy[col].fillna(details.get(\"impute_value\"))\n",
    "\n",
    "            # Rescaling if that exist \n",
    "            rescale = details.get(\"rescaling\", \"No rescaling\")\n",
    "            if rescale == \"StandardScaler\":\n",
    "                df_copy[col] = StandardScaler().fit_transform(df_copy[[col]])\n",
    "            elif rescale == \"MinMaxScaler\":\n",
    "                df_copy[col] = MinMaxScaler().fit_transform(df_copy[[col]])\n",
    "\n",
    "            processed[col] = df_copy[col]\n",
    "\n",
    "        # Encoding for text\n",
    "        elif col_type == \"text\":\n",
    "            encoded = LabelEncoder().fit_transform(df_copy[col].astype(str))\n",
    "            processed[col] = encoded\n",
    "\n",
    "    return pd.DataFrame(processed)\n"
   ]
  },
  {
   "cell_type": "code",
   "execution_count": 274,
   "id": "46748a18",
   "metadata": {},
   "outputs": [
    {
     "name": "stdout",
     "output_type": "stream",
     "text": [
      "(150, 5)\n"
     ]
    },
    {
     "data": {
      "text/html": [
       "<div>\n",
       "<style scoped>\n",
       "    .dataframe tbody tr th:only-of-type {\n",
       "        vertical-align: middle;\n",
       "    }\n",
       "\n",
       "    .dataframe tbody tr th {\n",
       "        vertical-align: top;\n",
       "    }\n",
       "\n",
       "    .dataframe thead th {\n",
       "        text-align: right;\n",
       "    }\n",
       "</style>\n",
       "<table border=\"1\" class=\"dataframe\">\n",
       "  <thead>\n",
       "    <tr style=\"text-align: right;\">\n",
       "      <th></th>\n",
       "      <th>sepal_length</th>\n",
       "      <th>sepal_width</th>\n",
       "      <th>petal_length</th>\n",
       "      <th>petal_width</th>\n",
       "      <th>species</th>\n",
       "    </tr>\n",
       "  </thead>\n",
       "  <tbody>\n",
       "    <tr>\n",
       "      <th>0</th>\n",
       "      <td>5.1</td>\n",
       "      <td>3.5</td>\n",
       "      <td>1.4</td>\n",
       "      <td>0.2</td>\n",
       "      <td>0</td>\n",
       "    </tr>\n",
       "    <tr>\n",
       "      <th>1</th>\n",
       "      <td>4.9</td>\n",
       "      <td>3.0</td>\n",
       "      <td>1.4</td>\n",
       "      <td>0.2</td>\n",
       "      <td>0</td>\n",
       "    </tr>\n",
       "    <tr>\n",
       "      <th>2</th>\n",
       "      <td>4.7</td>\n",
       "      <td>3.2</td>\n",
       "      <td>1.3</td>\n",
       "      <td>0.2</td>\n",
       "      <td>0</td>\n",
       "    </tr>\n",
       "    <tr>\n",
       "      <th>3</th>\n",
       "      <td>4.6</td>\n",
       "      <td>3.1</td>\n",
       "      <td>1.5</td>\n",
       "      <td>0.2</td>\n",
       "      <td>0</td>\n",
       "    </tr>\n",
       "    <tr>\n",
       "      <th>4</th>\n",
       "      <td>5.0</td>\n",
       "      <td>3.6</td>\n",
       "      <td>1.4</td>\n",
       "      <td>0.2</td>\n",
       "      <td>0</td>\n",
       "    </tr>\n",
       "    <tr>\n",
       "      <th>...</th>\n",
       "      <td>...</td>\n",
       "      <td>...</td>\n",
       "      <td>...</td>\n",
       "      <td>...</td>\n",
       "      <td>...</td>\n",
       "    </tr>\n",
       "    <tr>\n",
       "      <th>145</th>\n",
       "      <td>6.7</td>\n",
       "      <td>3.0</td>\n",
       "      <td>5.2</td>\n",
       "      <td>2.3</td>\n",
       "      <td>2</td>\n",
       "    </tr>\n",
       "    <tr>\n",
       "      <th>146</th>\n",
       "      <td>6.3</td>\n",
       "      <td>2.5</td>\n",
       "      <td>5.0</td>\n",
       "      <td>1.9</td>\n",
       "      <td>2</td>\n",
       "    </tr>\n",
       "    <tr>\n",
       "      <th>147</th>\n",
       "      <td>6.5</td>\n",
       "      <td>3.0</td>\n",
       "      <td>5.2</td>\n",
       "      <td>2.0</td>\n",
       "      <td>2</td>\n",
       "    </tr>\n",
       "    <tr>\n",
       "      <th>148</th>\n",
       "      <td>6.2</td>\n",
       "      <td>3.4</td>\n",
       "      <td>5.4</td>\n",
       "      <td>2.3</td>\n",
       "      <td>2</td>\n",
       "    </tr>\n",
       "    <tr>\n",
       "      <th>149</th>\n",
       "      <td>5.9</td>\n",
       "      <td>3.0</td>\n",
       "      <td>5.1</td>\n",
       "      <td>1.8</td>\n",
       "      <td>2</td>\n",
       "    </tr>\n",
       "  </tbody>\n",
       "</table>\n",
       "<p>150 rows × 5 columns</p>\n",
       "</div>"
      ],
      "text/plain": [
       "     sepal_length  sepal_width  petal_length  petal_width  species\n",
       "0             5.1          3.5           1.4          0.2        0\n",
       "1             4.9          3.0           1.4          0.2        0\n",
       "2             4.7          3.2           1.3          0.2        0\n",
       "3             4.6          3.1           1.5          0.2        0\n",
       "4             5.0          3.6           1.4          0.2        0\n",
       "..            ...          ...           ...          ...      ...\n",
       "145           6.7          3.0           5.2          2.3        2\n",
       "146           6.3          2.5           5.0          1.9        2\n",
       "147           6.5          3.0           5.2          2.0        2\n",
       "148           6.2          3.4           5.4          2.3        2\n",
       "149           5.9          3.0           5.1          1.8        2\n",
       "\n",
       "[150 rows x 5 columns]"
      ]
     },
     "execution_count": 274,
     "metadata": {},
     "output_type": "execute_result"
    }
   ],
   "source": [
    "x = feature_handling(df, data['feature_handling'])\n",
    "print(x.shape)\n",
    "x"
   ]
  },
  {
   "cell_type": "markdown",
   "id": "1a8a2f25",
   "metadata": {},
   "source": [
    "### Feature Reduction"
   ]
  },
  {
   "cell_type": "code",
   "execution_count": 275,
   "id": "ec2841fb",
   "metadata": {},
   "outputs": [],
   "source": [
    "\n",
    "def feature_reduction(X, y, cfg, task=\"regression\"):\n",
    "    if cfg.get(\"feature_reduction_method\") == \"Tree-based\":\n",
    "        model = RandomForestRegressor if task == \"regression\" else RandomForestClassifier\n",
    "        rf = model(\n",
    "            n_estimators=int(cfg[\"num_of_trees\"]),\n",
    "            max_depth=int(cfg[\"depth_of_trees\"]),\n",
    "            random_state=42\n",
    "        )\n",
    "        rf.fit(X, y)\n",
    "        idx = rf.feature_importances_.argsort()[-int(cfg[\"num_of_features_to_keep\"]):]\n",
    "        return X.iloc[:, idx]\n",
    "\n",
    "    return X\n"
   ]
  },
  {
   "cell_type": "code",
   "execution_count": 276,
   "id": "df9e780c",
   "metadata": {},
   "outputs": [
    {
     "name": "stdout",
     "output_type": "stream",
     "text": [
      "sepal_length    0\n",
      "sepal_width     0\n",
      "petal_length    0\n",
      "petal_width     0\n",
      "species         0\n",
      "dtype: int64\n"
     ]
    }
   ],
   "source": [
    "print(x.isnull().sum())"
   ]
  },
  {
   "cell_type": "code",
   "execution_count": 277,
   "id": "826b1e8d",
   "metadata": {},
   "outputs": [
    {
     "name": "stdout",
     "output_type": "stream",
     "text": [
      "(150, 5) (150,)\n"
     ]
    }
   ],
   "source": [
    "target_col = data[\"target\"][\"target\"]\n",
    "y = df[target_col]\n",
    "print(x.shape, y.shape)"
   ]
  },
  {
   "cell_type": "markdown",
   "id": "f6c27388",
   "metadata": {},
   "source": [
    "## DEFINE THE PIPELINE"
   ]
  },
  {
   "cell_type": "code",
   "execution_count": 281,
   "id": "13973dec",
   "metadata": {},
   "outputs": [],
   "source": [
    "algo = data['algorithms']\n",
    "def Pipeline(df, data, model_registry, get_param_grid):\n",
    "    #step1: feature handling\n",
    "    feature_handling(df, data['feature_handling'])\n",
    "    \n",
    "    #step2: feature reduction\n",
    "    feature_reduction(x, y, data['feature_reduction'], task_type)\n",
    "    \n",
    "    #step3: data splitting\n",
    "    x_train, x_test, y_train, y_test = train_test_split(x, y, \n",
    "                                                    test_size= 0.2,\n",
    "                                                    random_state= data['train']['random_seed'])\n",
    "    \n",
    "    #Step4: Hyoerparameter tuning\n",
    "    train_selected_model(x_train, x_test, y_train, y_test, algo, model_registry, get_param_grid, data['hyperparameters'])\n"
   ]
  },
  {
   "cell_type": "code",
   "execution_count": 282,
   "id": "6fade2cc",
   "metadata": {},
   "outputs": [
    {
     "name": "stdout",
     "output_type": "stream",
     "text": [
      "Here, we are using RandomForestRegressor model.\n",
      "Fitting 6 folds for each of 8 candidates, totalling 48 fits\n",
      " Best Params for RandomForestRegressor: {'max_depth': 20, 'min_samples_leaf': 5, 'n_estimators': 20}\n",
      " Test Score: 0.9967578922208405\n",
      "\n"
     ]
    }
   ],
   "source": [
    "Pipeline(df, data, model_registry, get_param_grid)"
   ]
  }
 ],
 "metadata": {
  "kernelspec": {
   "display_name": "base",
   "language": "python",
   "name": "python3"
  },
  "language_info": {
   "codemirror_mode": {
    "name": "ipython",
    "version": 3
   },
   "file_extension": ".py",
   "mimetype": "text/x-python",
   "name": "python",
   "nbconvert_exporter": "python",
   "pygments_lexer": "ipython3",
   "version": "3.12.2"
  }
 },
 "nbformat": 4,
 "nbformat_minor": 5
}
